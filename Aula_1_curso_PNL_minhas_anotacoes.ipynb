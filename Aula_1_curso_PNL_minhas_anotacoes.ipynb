{
 "cells": [
  {
   "cell_type": "markdown",
   "id": "c118ff92",
   "metadata": {},
   "source": [
    "# CURSO PNL - PROCESSAMENTO DE LINGUAGEM NATURAL"
   ]
  },
  {
   "cell_type": "markdown",
   "id": "c874da50",
   "metadata": {},
   "source": [
    "### ICMC/USP - SET/2021"
   ]
  },
  {
   "cell_type": "markdown",
   "id": "66625ba7",
   "metadata": {},
   "source": [
    "**Informações sobre o curso**<br>\n",
    "A área de Processamento de Linguagem Natural (PLN), ramo de pesquisa da Inteligência Artificial, tem sido muito demandada pelo mercado de trabalho e pela academia, sendo responsável pelo desenvolvimento de recursos, ferramentas e aplicações de tradução automática, revisão ortográfica e gramatical, análise de sentimentos e reconhecimento e síntese de fala, entre diversas outras tecnologias de amplo uso pela sociedade. Assim como em muitas frentes de trabalho, a linguagem de programação Python é muito utilizada em PLN, contando com funcionalidades que facilitam o processamento de textos e com alguns pacotes especializados que dinamizam o processo de desenvolvimento de aplicações.<br>\n",
    "\n",
    "Os objetivos desse curso de extensão são introduzir brevemente os conceitos básicos de PLN e apresentar o conteúdo essencial da linguagem de programação Python e os pacotes especializados normalmente utilizados em PLN, em especial, os pacotes NLTK e spaCy, assim como algumas aplicações simples. Além disso, sendo uma edição comemorativa dos 50 anos do ICMC, o evento conta em seu primeiro dia com a participação de pesquisadores renomados da área de PLN, discutindo como a área evoluiu nos últimos 50 anos e como o ICMC contribuiu nessa frente.<br>\n",
    "\n",
    "O curso é inteiramente virtual, com aulas transmitidas ao vivo pelo canal do ICMC no Youtube, com os links para as gravações sendo disponibilizados posteriormente nesta página. As aulas ocorrem nas quartas-feiras à tarde do mês de setembro, das 14 às 18h, totalizando 5 aulas. O curso é majoritariamente prático, com programação e demonstrações de software. Sugere-se ao aluno que acompanhe o curso em um computador desktop ou notebook, para que possa realizar as atividades práticas junto com os professores. Durante as aulas, haverá um formulário para os alunos postarem suas dúvidas e comentários, que, na medida do possível, serão respondidos no decorrer das aulas.<br>\n",
    "\n",
    "Ao final do curso, há uma prova virtual (de múltipla escolha), na qual o aluno formalmente inscrito pelo sistema Apolo da USP (inscrições encerradas em 20/agosto) que tirar nota mínima 7,0 terá direito a receber certificado da USP. O certificado será enviado por e-mail (no e-mail cadastrado pelo aluno no momento da inscrição) em até 4 meses após o fim do curso. Esse tempo é necessário devido ao grande número de inscritos no curso.<br>\n",
    "\n",
    "Para o aluno mais interessado, as seguintes referências complementares são recomendadas:<br>\n",
    "\n",
    "Jurafsky, D. and Martin, J.H. (2008). Speech and Language Processing: An Introduction to Natural Language Processing, Computational Linguistics and Speech Recognition. 2a edição. Prentice Hall. Material parcialmente disponível no site de um dos autores em https://web.stanford.edu/~jurafsky/slp3/ <br>\n",
    "VanderPlas, J. (2016). A Whirlwind Tour of Python. O’Reilly Media Inc. Disponível em https://jakevdp.github.io/WhirlwindTourOfPython/ <br>\n",
    "Esse curso é promovido pelo Núcleo Interinstitucional de Linguística Computacional (NILC) em parceria com o Centro de Inteligência Artificial da USP (C4AI) e a equipe do projeto POeTiSA (POrtuguese processing - Towards Syntactic Analysis and parsing). O curso é ofertado no âmbito das comemorações dos 50 anos do ICMC, que contam com o apoio do Santander.<br>\n",
    "\n",
    "O curso é ministrado pelos Profs. Thiago A. S. Pardo, Roney L. S. Santos e Rogério F. Sousa, com o apoio dos monitores Diogo C. Emídio, Lucas G. M. Miranda, Marcio L. Inácio, Gilberto Nunes Neto e Lucelene Lopes e o suporte da Comissão de Cultura e Extensão Universitária do ICMC.<br>"
   ]
  },
  {
   "cell_type": "markdown",
   "id": "209be0ea",
   "metadata": {},
   "source": [
    "**Acesso ao curso**<br>\n",
    "As aulas são transmitidas ao vivo pelo canal do ICMC no Youtube, com o apoio de um formulário para comunicação com os alunos. Recomendamos assistir às aulas ao vivo (dado o caráter prático do curso), mas o aluno também poderá assistir às aulas posteriormente (atenção: a data final de submissão da prova é inadiável).<br>\n",
    "\n",
    "Para acessar as aulas, o aluno pode entrar no canal do ICMC no Youtube ou copiar diretamente os links das aulas abaixo para seu navegador de preferência:<br>\n",
    "\n",
    "aula 1 (1/setembro): https://www.youtube.com/watch?v=CS5wYHJfI_0  <br>\n",
    "aula 2 (8/setembro): https://www.youtube.com/watch?v=QIB5j6X0DHg  <br>\n",
    "aula 3 (15/setembro): https://www.youtube.com/watch?v=AdsgZizoxrs  <br>\n",
    "aula 4 (22/setembro): https://www.youtube.com/watch?v=RE52nPYI2WM  <br>\n",
    "aula 5 (29/setembro): https://www.youtube.com/watch?v=hLWDvAAUz84  <br>\n",
    "\n",
    "A partir do dia 30/setembro, será disponibilizada a prova virtual (de múltipla escolha), com o link de acesso divulgado na última aula do curso. Haverá apenas uma chance para fazer a prova, que deverá ser submetida até o fim do dia 6/outubro (prazo inadiável).<br>\n",
    "\n",
    "Para comunicação com os professores do curso, há um formulário aberto disponível em https://forms.gle/HQDBYuXmybMWH52x7. Na medida do possível, as perguntas e os comentários serão respondidos ao vivo, conforme disponibilidade de tempo durante as aulas.<br>"
   ]
  },
  {
   "cell_type": "markdown",
   "id": "6366b94d",
   "metadata": {},
   "source": [
    "**Links interessantes** (citados durante as aulas) <br>\n",
    "Comissão Especial de Processamento de Linguagem Natural (CEPLN) da Sociedade Brasileira de ComputaçãoURL <br>\n",
    "Os interessados podem se inscrever na lista de e-mails da CEPLN (no link https://grupos.ufrgs.br/mailman/listinfo/ce-pln) <br>\n",
    "\n",
    "Portal de publicações científicas da ACL (Association for Computational Linguistics)URL <br>\n",
    "PORTULAN CLARIN - portal de recursos, ferramentas e aplicações de PLNURL <br>\n",
    "Linguateca - centro de recursos (distribuído) para o processamento computacional da língua portuguesaURL <br>"
   ]
  },
  {
   "cell_type": "markdown",
   "id": "8cc7477c",
   "metadata": {},
   "source": [
    "## PLN é uma subárea da IA.\n",
    "Ciência de Dados e Aprendizado de Máquina usam PLN em alguns estudos/algoritmos."
   ]
  },
  {
   "cell_type": "code",
   "execution_count": 1,
   "id": "7b3b1e09",
   "metadata": {},
   "outputs": [
    {
     "name": "stdout",
     "output_type": "stream",
     "text": [
      "Name: spacy\n",
      "Version: 2.3.2\n",
      "Summary: Industrial-strength Natural Language Processing (NLP) in Python\n",
      "Home-page: https://spacy.io\n",
      "Author: Explosion\n",
      "Author-email: contact@explosion.ai\n",
      "License: MIT\n",
      "Location: c:\\users\\joaop\\anaconda3\\lib\\site-packages\n",
      "Requires: tqdm, thinc, srsly, catalogue, wasabi, setuptools, requests, murmurhash, blis, plac, preshed, numpy, cymem\n",
      "Required-by: pt-core-news-sm, pt-core-news-md, en-core-web-sm\n"
     ]
    }
   ],
   "source": [
    "!pip show spacy"
   ]
  },
  {
   "cell_type": "code",
   "execution_count": 4,
   "id": "e2664ac6",
   "metadata": {},
   "outputs": [
    {
     "name": "stdout",
     "output_type": "stream",
     "text": [
      "Name: nltk\n",
      "Version: 3.6.2\n",
      "Summary: Natural Language Toolkit\n",
      "Home-page: http://nltk.org/\n",
      "Author: Steven Bird\n",
      "Author-email: stevenbird1@gmail.com\n",
      "License: Apache License, Version 2.0\n",
      "Location: c:\\users\\joaop\\anaconda3\\lib\\site-packages\n",
      "Requires: tqdm, joblib, click, regex\n",
      "Required-by: rake-nltk\n"
     ]
    }
   ],
   "source": [
    "!pip show nltk"
   ]
  },
  {
   "cell_type": "code",
   "execution_count": 6,
   "id": "5a9a1307",
   "metadata": {},
   "outputs": [
    {
     "name": "stdout",
     "output_type": "stream",
     "text": [
      "0.24.2\n"
     ]
    }
   ],
   "source": [
    "import sklearn\n",
    "sklearn_version = sklearn.__version__\n",
    "\n",
    "print(sklearn_version)"
   ]
  },
  {
   "cell_type": "code",
   "execution_count": null,
   "id": "df706432",
   "metadata": {},
   "outputs": [],
   "source": []
  }
 ],
 "metadata": {
  "kernelspec": {
   "display_name": "Python 3 (ipykernel)",
   "language": "python",
   "name": "python3"
  },
  "language_info": {
   "codemirror_mode": {
    "name": "ipython",
    "version": 3
   },
   "file_extension": ".py",
   "mimetype": "text/x-python",
   "name": "python",
   "nbconvert_exporter": "python",
   "pygments_lexer": "ipython3",
   "version": "3.11.7"
  }
 },
 "nbformat": 4,
 "nbformat_minor": 5
}
