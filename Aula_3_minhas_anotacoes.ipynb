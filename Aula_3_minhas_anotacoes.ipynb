{
 "cells": [
  {
   "cell_type": "markdown",
   "id": "367477b7",
   "metadata": {},
   "source": [
    "# Aula 3"
   ]
  },
  {
   "cell_type": "code",
   "execution_count": 1,
   "id": "fe36a6c6",
   "metadata": {},
   "outputs": [
    {
     "name": "stdout",
     "output_type": "stream",
     "text": [
      "Giants batem os Patriots no Super Bowl XLII\n",
      "Azarões acabam com a invencibilidade de New England e ficam com o título da temporada\n",
      "04/02/2008 - 01h07m - Atualizado em 04/02/2008 - 09h49m\n",
      "\n",
      "Com um passe de Eli Manning para Plaxico Burress a 39 segundos do fim, o New York Giants anotou o touchdown decisivo e derrubou o favorito New England Patriots por 17 a 14 neste domingo, em Glendale, no Super Bowl XLII. O resultado, uma das maiores zebras da história do Super Bowl, acabou com a temporada perfeita de Tom Brady e companhia, que esperavam fazer história ao levantar o troféu da NFL sem sofrer uma derrota no ano. \n",
      "\n",
      "A vitória dos Giants, porém, também ficará para a história. Pela primeira vez, irmãos quarterbacks triunfam no Super Bowl em temporadas consecutivas. No ano passado, Peyton Manning, irmão de Eli, chegou ao título máximo da NFL pelo Indianapolis Colts.\n",
      "\n",
      "A partida\n",
      "\n",
      "Os Giants começaram com a posse de bola, e mostraram logo que iriam alongar ao máximo suas posses de bola. Misturando corridas com Brandon Jacobs e passes curtos, o time de Nova York chegou à red zone logo na primeira campanha. O avanço, no entanto, parou na linha de 17 jardas e Lawrence Tynes converteu o field goal de 32 jardas para abrir o placar.\n",
      "\n",
      "Eli Manning e companhia ficaram 9m54s com a bola, mas o ataque dos Patriots não entrou em campo frio. Logo no retorno do kickoff, o running back Laurence Maroney avançou 43 jardas, deixando Tom Brady em boa posição. Com passes curtos, os Patriots chegaram à linha de 17 jardas e, graças a uma penalidade (interferência de passe) do linebacker Antonio Pierce, alcançaram a linha de uma jarda. Maroney avançou pelo chão e anotou o primeiro touchdown do jogo.\n",
      "\n",
      "Os Giants pareciam rumo à virada na campanha seguinte. Manning achou Amani Toomer para um avanço de 38 jardas, e o time de Nova York entrou novamente na red zone. Com a bola na linha de 14 jardas dos Patriots, os Giants sofreram um revés. Manning passou para Steve Smith, que soltou a bola. Ellis Hobbs aproveitou, tomou a posse para os Patriots, e avançou 23 jardas. \n",
      "\n",
      "A defesa de Nova York manteve o jogo equilibrado. Com dois sacks seguidos, os Giants forçaram o punt e recuperaram a bola. Mas a campanha seguinte provou ser outra decepção para Nova York. O time chegou à linha de 25 jardas, mas Manning sofreu um sack e cometeu um fumble, e o ataque voltou para a linha de 39 jardas, não conseguindo pontuar mais uma vez.\n",
      "\n",
      "Os Patriots tiveram uma última chance de marcar antes do intervalo, mas, a 22 segundos do fim do segundo período, Brady foi novamente sacado. Desta vez, ele cometeu o fumble e os Giants tomaram a posse de bola. Manning tentou um passe longo, de 50 jardas, nos últimos segundos, mas não teve sucesso. \n",
      "\n",
      "O jogo continuou amarrado no terceiro quarto, com as defesas levando a melhor sobre os ataques. A única chance de pontuar do período foi dos Patriots, que chegaram à linha de 31 jardas dos Giants. O técnico Bill Bellichick, porém, optou por uma quarta descida em vez de um field goal. Brady tentou um passe para Jabar Gaffney, mas não conseguiu completar.\n",
      "\n",
      "O último período começou arrasador para os Giants. na primeira jogada, Manning achou o tight end Kevin Boss, para um incrível avanço de 45 jardas, que deixou o time na linha de 35 dos Patriots. Outro lançamento, desta vez para Steve Smith, marcou o avanço até a linha de 12 jardas. Duas jogadas depois, David Tyree pegou um passe de cinco jardas na end zone para anotar o touchdown e virar o jogo.\n",
      "\n",
      "Na hora da decisão, o ataque dos Patriots voltou a funcionar. Com uma série de passes curtos e variados, Brady achou Wes Welker, Randy Moss e Kevin Faulk seguidas vezes até chegar à red zone. A 2m45s do fim, o quarterback conectou mais uma vez com Moss, que se desmarcou e ficou livre na lateral direita da end zone.\n",
      "\n",
      "Quando os fãs de New England já comemoravam a vitória, o inesperado aconteceu. Em uma jogada incrível, Eli Manning se soltou de dois marcadores que o seguravam pela camisa e, na corrida, lançou para Amani Toomer. O wide receiver, bem marcado, saltou e conseguiu a fazer recepção para um avanço de 32 jardas, deixando os Giants na linha de 24 de New England.\n",
      "\n",
      "Quatro jogadas depois, a 39 segundos do fim, Manning achou Plaxico Burress na end zone para conseguir o touchdown do título.\n"
     ]
    }
   ],
   "source": [
    "infile = open('corpus_teste.txt', 'r', encoding='utf-8')\n",
    "# infile=open('corpus_teste.txt', 'r') # dá problema de codificação\n",
    "print(infile.read())\n",
    "infile.close()"
   ]
  },
  {
   "cell_type": "code",
   "execution_count": 2,
   "id": "2694e597",
   "metadata": {},
   "outputs": [
    {
     "data": {
      "text/plain": [
       "'aspas simples'"
      ]
     },
     "execution_count": 2,
     "metadata": {},
     "output_type": "execute_result"
    }
   ],
   "source": [
    "'aspas simples'"
   ]
  },
  {
   "cell_type": "code",
   "execution_count": 3,
   "id": "ccaaecbe",
   "metadata": {},
   "outputs": [
    {
     "data": {
      "text/plain": [
       "'aspas duplas'"
      ]
     },
     "execution_count": 3,
     "metadata": {},
     "output_type": "execute_result"
    }
   ],
   "source": [
    "\"aspas duplas\""
   ]
  },
  {
   "cell_type": "code",
   "execution_count": 4,
   "id": "6b16ff3e",
   "metadata": {},
   "outputs": [
    {
     "data": {
      "text/plain": [
       "'aspas triplas têm uma propriedade que ignora\\na quebra de\\nlinha'"
      ]
     },
     "execution_count": 4,
     "metadata": {},
     "output_type": "execute_result"
    }
   ],
   "source": [
    "\"\"\"aspas triplas têm uma propriedade que ignora\n",
    "a quebra de\n",
    "linha\"\"\""
   ]
  },
  {
   "cell_type": "code",
   "execution_count": 5,
   "id": "86db03ce",
   "metadata": {},
   "outputs": [
    {
     "ename": "TypeError",
     "evalue": "'str' object does not support item assignment",
     "output_type": "error",
     "traceback": [
      "\u001b[1;31m---------------------------------------------------------------------------\u001b[0m",
      "\u001b[1;31mTypeError\u001b[0m                                 Traceback (most recent call last)",
      "\u001b[1;32m<ipython-input-5-f96e57304938>\u001b[0m in \u001b[0;36m<module>\u001b[1;34m\u001b[0m\n\u001b[0;32m      1\u001b[0m \u001b[0mr\u001b[0m\u001b[1;33m=\u001b[0m\u001b[1;34m'roney'\u001b[0m\u001b[1;33m\u001b[0m\u001b[1;33m\u001b[0m\u001b[0m\n\u001b[1;32m----> 2\u001b[1;33m \u001b[0mr\u001b[0m\u001b[1;33m[\u001b[0m\u001b[1;36m0\u001b[0m\u001b[1;33m]\u001b[0m\u001b[1;33m=\u001b[0m\u001b[1;34m'l'\u001b[0m\u001b[1;33m\u001b[0m\u001b[1;33m\u001b[0m\u001b[0m\n\u001b[0m",
      "\u001b[1;31mTypeError\u001b[0m: 'str' object does not support item assignment"
     ]
    }
   ],
   "source": [
    "r='roney'\n",
    "r[0]='l'"
   ]
  },
  {
   "cell_type": "code",
   "execution_count": 6,
   "id": "ce956b98",
   "metadata": {},
   "outputs": [
    {
     "data": {
      "text/plain": [
       "'loney'"
      ]
     },
     "execution_count": 6,
     "metadata": {},
     "output_type": "execute_result"
    }
   ],
   "source": [
    "nr = 'l' + r[1:]\n",
    "nr"
   ]
  },
  {
   "cell_type": "markdown",
   "id": "ef30e5a6",
   "metadata": {},
   "source": [
    "Cast = transformar o tipo"
   ]
  },
  {
   "cell_type": "code",
   "execution_count": 7,
   "id": "42fd41c4",
   "metadata": {},
   "outputs": [
    {
     "data": {
      "text/plain": [
       "'o valor de pi é 3.14'"
      ]
     },
     "execution_count": 7,
     "metadata": {},
     "output_type": "execute_result"
    }
   ],
   "source": [
    "pi=3.14\n",
    "info = 'o valor de pi é ' + str(pi)\n",
    "info"
   ]
  },
  {
   "cell_type": "markdown",
   "id": "450eb3b0",
   "metadata": {},
   "source": [
    "**Funções**"
   ]
  },
  {
   "cell_type": "markdown",
   "id": "278f7af2",
   "metadata": {},
   "source": [
    "Consultar o w3school"
   ]
  },
  {
   "cell_type": "code",
   "execution_count": 8,
   "id": "f02569b6",
   "metadata": {},
   "outputs": [
    {
     "data": {
      "text/plain": [
       "37"
      ]
     },
     "execution_count": 8,
     "metadata": {},
     "output_type": "execute_result"
    }
   ],
   "source": [
    "s = ' fllcTTT212   04d94DD piemkjijcljdsh '\n",
    "len(s)"
   ]
  },
  {
   "cell_type": "code",
   "execution_count": 9,
   "id": "1cc7ed5f",
   "metadata": {},
   "outputs": [
    {
     "data": {
      "text/plain": [
       "' FLLCTTT212   04D94DD PIEMKJIJCLJDSH '"
      ]
     },
     "execution_count": 9,
     "metadata": {},
     "output_type": "execute_result"
    }
   ],
   "source": [
    "s.upper()"
   ]
  },
  {
   "cell_type": "code",
   "execution_count": 10,
   "id": "260f431f",
   "metadata": {},
   "outputs": [
    {
     "data": {
      "text/plain": [
       "' fllcttt212   04d94dd piemkjijcljdsh '"
      ]
     },
     "execution_count": 10,
     "metadata": {},
     "output_type": "execute_result"
    }
   ],
   "source": [
    "s.lower()"
   ]
  },
  {
   "cell_type": "code",
   "execution_count": 11,
   "id": "36012cb5",
   "metadata": {},
   "outputs": [
    {
     "data": {
      "text/plain": [
       "'fllcTTT212   04d94DD piemkjijcljdsh'"
      ]
     },
     "execution_count": 11,
     "metadata": {},
     "output_type": "execute_result"
    }
   ],
   "source": [
    "s.strip()"
   ]
  },
  {
   "cell_type": "code",
   "execution_count": 12,
   "id": "b6185715",
   "metadata": {},
   "outputs": [
    {
     "data": {
      "text/plain": [
       "' fllcaaa212   04d94DD piemkjijcljdsh '"
      ]
     },
     "execution_count": 12,
     "metadata": {},
     "output_type": "execute_result"
    }
   ],
   "source": [
    "s.replace('T', 'a')"
   ]
  },
  {
   "cell_type": "code",
   "execution_count": 13,
   "id": "4c46d134",
   "metadata": {},
   "outputs": [
    {
     "data": {
      "text/plain": [
       "['fllcTTT212', '04d94DD', 'piemkjijcljdsh']"
      ]
     },
     "execution_count": 13,
     "metadata": {},
     "output_type": "execute_result"
    }
   ],
   "source": [
    "s.split()"
   ]
  },
  {
   "cell_type": "raw",
   "id": "a3f1c5a0",
   "metadata": {},
   "source": [
    "Número de palavras no texto:"
   ]
  },
  {
   "cell_type": "code",
   "execution_count": 14,
   "id": "2abc91e7",
   "metadata": {},
   "outputs": [
    {
     "name": "stdout",
     "output_type": "stream",
     "text": [
      "758\n"
     ]
    }
   ],
   "source": [
    "infile=open('corpus_teste.txt', 'r')\n",
    "texto = infile.read()\n",
    "print(len(texto.split()))\n",
    "infile.close()"
   ]
  },
  {
   "cell_type": "code",
   "execution_count": 15,
   "id": "a94498ac",
   "metadata": {},
   "outputs": [
    {
     "data": {
      "text/plain": [
       "['fllcTTT212', '04d94DD', 'piemkjijcljdsh']"
      ]
     },
     "execution_count": 15,
     "metadata": {},
     "output_type": "execute_result"
    }
   ],
   "source": [
    "sl = s.split()\n",
    "sl"
   ]
  },
  {
   "cell_type": "code",
   "execution_count": 16,
   "id": "63d10d18",
   "metadata": {},
   "outputs": [
    {
     "data": {
      "text/plain": [
       "'fllcTTT212 04d94DD piemkjijcljdsh'"
      ]
     },
     "execution_count": 16,
     "metadata": {},
     "output_type": "execute_result"
    }
   ],
   "source": [
    "sj = ' '.join(sl)\n",
    "sj"
   ]
  },
  {
   "cell_type": "code",
   "execution_count": 17,
   "id": "55db06f9",
   "metadata": {},
   "outputs": [
    {
     "data": {
      "text/plain": [
       "'fllcTTT212/04d94DD/piemkjijcljdsh'"
      ]
     },
     "execution_count": 17,
     "metadata": {},
     "output_type": "execute_result"
    }
   ],
   "source": [
    "sj = '/'.join(sl)\n",
    "sj"
   ]
  }
 ],
 "metadata": {
  "kernelspec": {
   "display_name": "Python 3",
   "language": "python",
   "name": "python3"
  },
  "language_info": {
   "codemirror_mode": {
    "name": "ipython",
    "version": 3
   },
   "file_extension": ".py",
   "mimetype": "text/x-python",
   "name": "python",
   "nbconvert_exporter": "python",
   "pygments_lexer": "ipython3",
   "version": "3.8.10"
  }
 },
 "nbformat": 4,
 "nbformat_minor": 5
}
