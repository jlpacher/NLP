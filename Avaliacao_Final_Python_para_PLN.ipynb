{
 "cells": [
  {
   "cell_type": "markdown",
   "id": "6a172d19",
   "metadata": {},
   "source": [
    "# Avaliação Final - Python para PLN"
   ]
  },
  {
   "cell_type": "markdown",
   "id": "40732775",
   "metadata": {},
   "source": [
    "Um exemplo prático de aplicação em PLN é um sistema de tradução automática. <br>\n",
    "1 ponto<br>\n",
    "<font color='red'>Verdadeiro </font> <br>\n",
    "Falso <br>"
   ]
  },
  {
   "cell_type": "markdown",
   "id": "7296ab2a",
   "metadata": {},
   "source": [
    "Marque a opção que represente o resultado final da execução desse código: <br>\n",
    "1 ponto<br>\n",
    "v = \"1\" <br>\n",
    "q = 1 <br>\n",
    "v + q <br>\n",
    "\n",
    "\"1\"1 <br>\n",
    "\"11\" <br>\n",
    "<font color='red'>O sistema retorna um erro </font><br>\n",
    "11 <br>"
   ]
  },
  {
   "cell_type": "code",
   "execution_count": 1,
   "id": "07a82957",
   "metadata": {},
   "outputs": [
    {
     "ename": "TypeError",
     "evalue": "can only concatenate str (not \"int\") to str",
     "output_type": "error",
     "traceback": [
      "\u001b[1;31m---------------------------------------------------------------------------\u001b[0m",
      "\u001b[1;31mTypeError\u001b[0m                                 Traceback (most recent call last)",
      "\u001b[1;32m<ipython-input-1-8c16cd1d3110>\u001b[0m in \u001b[0;36m<module>\u001b[1;34m\u001b[0m\n\u001b[0;32m      1\u001b[0m \u001b[0mv\u001b[0m \u001b[1;33m=\u001b[0m \u001b[1;34m\"1\"\u001b[0m\u001b[1;33m\u001b[0m\u001b[1;33m\u001b[0m\u001b[0m\n\u001b[0;32m      2\u001b[0m \u001b[0mq\u001b[0m \u001b[1;33m=\u001b[0m \u001b[1;36m1\u001b[0m\u001b[1;33m\u001b[0m\u001b[1;33m\u001b[0m\u001b[0m\n\u001b[1;32m----> 3\u001b[1;33m \u001b[0mv\u001b[0m \u001b[1;33m+\u001b[0m \u001b[0mq\u001b[0m\u001b[1;33m\u001b[0m\u001b[1;33m\u001b[0m\u001b[0m\n\u001b[0m",
      "\u001b[1;31mTypeError\u001b[0m: can only concatenate str (not \"int\") to str"
     ]
    }
   ],
   "source": [
    "v = \"1\"\n",
    "q = 1\n",
    "v + q"
   ]
  },
  {
   "cell_type": "markdown",
   "id": "381bba95",
   "metadata": {},
   "source": [
    "Qual das opções representa uma tupla em Python? <br>\n",
    "1 ponto <br>\n",
    "[0, 1, 2, 3, 4] <br>\n",
    "<font color='red'>(0, 1, 2, 3, 4) </font><br>\n",
    "\"0, 1, 2, 3, 4\" <br>\n",
    "{0, 1, 2, 3, 4} <br>"
   ]
  },
  {
   "cell_type": "markdown",
   "id": "2ecf3332",
   "metadata": {},
   "source": [
    "Dadas as linhas de código abaixo, qual opção representa o resultado da execução do código? <br>\n",
    "1 ponto <br>\n",
    "estrutura = [10,20,30,40,50] <br>\n",
    "print(estrutura[:3]) <br>\n",
    "\n",
    "\n",
    "[10, 20, 30, 40] <br>\n",
    "[30] <br>\n",
    "[30, 40, 50] <br>\n",
    "<font color='red'>[10, 20, 30] </font> <br>"
   ]
  },
  {
   "cell_type": "code",
   "execution_count": 3,
   "id": "daa3d061",
   "metadata": {},
   "outputs": [
    {
     "name": "stdout",
     "output_type": "stream",
     "text": [
      "[10, 20, 30]\n"
     ]
    }
   ],
   "source": [
    "estrutura = [10,20,30,40,50]\n",
    "print(estrutura[:3])"
   ]
  },
  {
   "cell_type": "markdown",
   "id": "3b03aff6",
   "metadata": {},
   "source": [
    "A linha de código abaixo tem como objetivo: <br>\n",
    "1 ponto <br>\n",
    "s = \"instituto de ciências matemáticas e de computação\"\n",
    "len(s.split())\n",
    "\n",
    "Saber a quantidade de palavras da string s. O resultado é 49. <br>\n",
    "<font color='red'>Saber a quantidade de palavras da string s. O resultado é 7. </font> <br>\n",
    "Saber o tamanho da string s em caracteres e espaços. O resultado é 49. <br>\n",
    "Saber o tamanho da string s em caracteres e espaços. O resultado é 7. <br>"
   ]
  },
  {
   "cell_type": "code",
   "execution_count": 5,
   "id": "01e4e9e8",
   "metadata": {},
   "outputs": [
    {
     "data": {
      "text/plain": [
       "7"
      ]
     },
     "execution_count": 5,
     "metadata": {},
     "output_type": "execute_result"
    }
   ],
   "source": [
    "s = \"instituto de ciências matemáticas e de computação\"\n",
    "len(s.split())"
   ]
  },
  {
   "cell_type": "markdown",
   "id": "3dea90b4",
   "metadata": {},
   "source": [
    "O trecho de código abaixo retorna uma lista de tokens, que são: <br>\n",
    "1 ponto <br>\n",
    "texto = 'O jogador, que está com a camisa 10, marcou o gol da vitória!'\n",
    "from nltk.tokenize import RegexpTokenizer\n",
    "tokenizer = RegexpTokenizer(r'[A-z]\\w*')\n",
    "tokens = tokenizer.tokenize(texto)\n",
    "tokens\n",
    "\n",
    "Números <br>\n",
    "<font color='red'>Palavras </font><br>\n",
    "Pontuações <br>\n",
    "Todos os tipos de tokens <br>"
   ]
  },
  {
   "cell_type": "code",
   "execution_count": 7,
   "id": "0a50a418",
   "metadata": {},
   "outputs": [
    {
     "name": "stdout",
     "output_type": "stream",
     "text": [
      "['O', 'jogador', 'que', 'está', 'com', 'a', 'camisa', 'marcou', 'o', 'gol', 'da', 'vitória']\n"
     ]
    }
   ],
   "source": [
    "texto = 'O jogador, que está com a camisa 10, marcou o gol da vitória!'\n",
    "from nltk.tokenize import RegexpTokenizer\n",
    "tokenizer = RegexpTokenizer(r'[A-z]\\w*')\n",
    "tokens = tokenizer.tokenize(texto)\n",
    "print(tokens)"
   ]
  },
  {
   "cell_type": "markdown",
   "id": "00f4495a",
   "metadata": {},
   "source": [
    "No NLTK, a contagem/frequência de tokens é feita pela classe FreqDist. <br>\n",
    "1 ponto <br>\n",
    "<font color='red'>Verdadeiro </font><br>\n",
    "Falso <br>"
   ]
  },
  {
   "cell_type": "markdown",
   "id": "f2815e69",
   "metadata": {},
   "source": [
    "Usando o spaCy, caso se queira retornar todas as pontuações do texto/dataset, qual das linhas de código abaixo seria utilizada? <br>\n",
    "1 ponto <br>\n",
    "tokens_pontuacoes = [token.orth_ for token in doc if token.is_alpha] <br>\n",
    "tokens_pontuacoes = [token.orth_ for token in doc if token.is_digit] <br>\n",
    "<font color='red'>tokens_pontuacoes = [token.orth_ for token in doc if token.is_punct] </font><br>\n",
    "tokens_pontuacoes = [token.orth_ for token in doc] <br>"
   ]
  },
  {
   "cell_type": "markdown",
   "id": "fd8fd792",
   "metadata": {},
   "source": [
    "No spaCy, para retornar todas as classes gramaticais de um certo texto ou dataset, deve-se usar o atributo .pos_ do token. <br>\n",
    "1 ponto <br>\n",
    "<font color='red'>Verdadeiro </font> <br>\n",
    "Falso <br>\n",
    "\n",
    "pos_ = part of speech (classe gramatical) <br>"
   ]
  },
  {
   "cell_type": "markdown",
   "id": "056561ac",
   "metadata": {},
   "source": [
    "O reconhecimento de entidades nomeadas é uma técnica que consiste na identificação de nomes de entidades-chave, presentes na forma livre de dados textuais. Como podemos reconhecer as entidades nomeadas de um texto usando o spaCy? <br>\n",
    "1 ponto <br>\n",
    "\n",
    "Não podemos reconhecer entidades nomeadas com o spaCy <br>\n",
    "Todas as afirmações estão erradas <br>\n",
    "Somente se extraírmos os bigramas/trigramas/n-gramas e verificarmos quais tokens iniciam com maiúsculas. <br>\n",
    "<font color='red'>Precisamos usar o atributo '.ents' presente no texto analisado pelo modelo do spaCy </font> <br>"
   ]
  }
 ],
 "metadata": {
  "kernelspec": {
   "display_name": "Python 3",
   "language": "python",
   "name": "python3"
  },
  "language_info": {
   "codemirror_mode": {
    "name": "ipython",
    "version": 3
   },
   "file_extension": ".py",
   "mimetype": "text/x-python",
   "name": "python",
   "nbconvert_exporter": "python",
   "pygments_lexer": "ipython3",
   "version": "3.8.10"
  }
 },
 "nbformat": 4,
 "nbformat_minor": 5
}
