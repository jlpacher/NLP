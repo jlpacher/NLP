{
 "cells": [
  {
   "cell_type": "markdown",
   "id": "9e53e24b",
   "metadata": {},
   "source": [
    "# Exercícios de Fixação - Aula 3"
   ]
  },
  {
   "cell_type": "markdown",
   "id": "668d9d3f",
   "metadata": {},
   "source": [
    "1. Dado o arquivo qbdata.txt, retorne o rating de cada QB na forma “nome do QB teve valor XX.X’   <br>\n",
    " Percebe-se que as informações que são requeridas são a primeira e a última de cada linha;   <br>\n",
    " É visto também que a separação entre as informações é feita por meio de espaços ou tabulação;   <br>\n",
    " Algoritmo: para cada linha, fazer a separação dela e por meio do slicing de listas, pegar a primeira e a última informação e montar a string final.   <br>"
   ]
  },
  {
   "cell_type": "code",
   "execution_count": 3,
   "id": "b38542b4",
   "metadata": {},
   "outputs": [
    {
     "name": "stdout",
     "output_type": "stream",
     "text": [
      "Colt McCoy QB, CLE  135 222 1576    6   9   60.8%   74.5\n",
      "Josh Freeman QB, TB 291 474 3451    25  6   61.4%   95.9\n",
      "Michael Vick QB, PHI    233 372 3018    21  6   62.6%   100.2\n",
      "Matt Schaub QB, HOU 365 574 4370    24  12  63.6%   92.0\n",
      "Philip Rivers QB, SD    357 541 4710    30  13  66.0%   101.8\n",
      "Matt Hasselbeck QB, SEA 266 444 3001    12  17  59.9%   73.2\n",
      "Jimmy Clausen QB, CAR   157 299 1558    3   9   52.5%   58.4\n",
      "Joe Flacco QB, BAL  306 489 3622    25  10  62.6%   93.6\n",
      "Kyle Orton QB, DEN  293 498 3653    20  9   58.8%   87.5\n",
      "Jason Campbell QB, OAK  194 329 2387    13  8   59.0%   84.5\n",
      "Peyton Manning QB, IND  450 679 4700    33  17  66.3%   91.9\n",
      "Drew Brees QB, NO   448 658 4620    33  22  68.1%   90.9\n",
      "Matt Ryan QB, ATL   357 571 3705    28  9   62.5%   91.0\n",
      "Matt Cassel QB, KC  262 450 3116    27  7   58.2%   93.0\n",
      "Mark Sanchez QB, NYJ    278 507 3291    17  13  54.8%   75.3\n",
      "Brett Favre QB, MIN 217 358 2509    11  19  60.6%   69.9\n",
      "David Garrard QB, JAC   236 366 2734    23  15  64.5%   90.8\n",
      "Eli Manning QB, NYG 339 539 4002    31  25  62.9%   85.3\n",
      "Carson Palmer QB, CIN   362 586 3970    26  20  61.8%   82.4\n",
      "Alex Smith QB, SF   204 342 2370    14  10  59.6%   82.1\n",
      "Chad Henne QB, MIA  301 490 3301    15  19  61.4%   75.4\n",
      "Tony Romo QB, DAL   148 213 1605    11  7   69.5%   94.9\n",
      "Jay Cutler QB, CHI  261 432 3274    23  16  60.4%   86.3\n",
      "Jon Kitna QB, DAL   209 318 2365    16  12  65.7%   88.9\n",
      "Tom Brady QB, NE    324 492 3900    36  4   65.9%   111.0\n",
      "Ben Roethlisberger QB, PIT  240 389 3200    17  5   61.7%   97.0\n",
      "Kerry Collins QB, TEN   160 278 1823    14  8   57.6%   82.2\n",
      "Derek Anderson QB, ARI  169 327 2065    7   10  51.7%   65.9\n",
      "Ryan Fitzpatrick QB, BUF    255 441 3000    23  15  57.8%   81.8\n",
      "Donovan McNabb QB, WAS  275 472 3377    14  15  58.3%   77.1\n",
      "Kevin Kolb QB, PHI  115 189 1197    7   7   60.8%   76.1\n",
      "Aaron Rodgers QB, GB    312 475 3922    28  11  65.7%   101.2\n",
      "Sam Bradford QB, STL    354 590 3512    18  15  60.0%   76.5\n",
      "Shaun Hill QB, DET  257 416 2686    16  12  61.8%   81.3\n"
     ]
    }
   ],
   "source": [
    "arquivo_qb = open('qbdata.txt', 'r')\n",
    "print(arquivo_qb.read())\n",
    "arquivo_qb.close()"
   ]
  },
  {
   "cell_type": "code",
   "execution_count": 7,
   "id": "5ddf334a",
   "metadata": {},
   "outputs": [
    {
     "data": {
      "text/plain": [
       "['Colt McCoy QB, CLE  135 222 1576    6   9   60.8%   74.5\\n',\n",
       " 'Josh Freeman QB, TB 291 474 3451    25  6   61.4%   95.9\\n',\n",
       " 'Michael Vick QB, PHI    233 372 3018    21  6   62.6%   100.2\\n',\n",
       " 'Matt Schaub QB, HOU 365 574 4370    24  12  63.6%   92.0\\n',\n",
       " 'Philip Rivers QB, SD    357 541 4710    30  13  66.0%   101.8\\n',\n",
       " 'Matt Hasselbeck QB, SEA 266 444 3001    12  17  59.9%   73.2\\n',\n",
       " 'Jimmy Clausen QB, CAR   157 299 1558    3   9   52.5%   58.4\\n',\n",
       " 'Joe Flacco QB, BAL  306 489 3622    25  10  62.6%   93.6\\n',\n",
       " 'Kyle Orton QB, DEN  293 498 3653    20  9   58.8%   87.5\\n',\n",
       " 'Jason Campbell QB, OAK  194 329 2387    13  8   59.0%   84.5\\n',\n",
       " 'Peyton Manning QB, IND  450 679 4700    33  17  66.3%   91.9\\n',\n",
       " 'Drew Brees QB, NO   448 658 4620    33  22  68.1%   90.9\\n',\n",
       " 'Matt Ryan QB, ATL   357 571 3705    28  9   62.5%   91.0\\n',\n",
       " 'Matt Cassel QB, KC  262 450 3116    27  7   58.2%   93.0\\n',\n",
       " 'Mark Sanchez QB, NYJ    278 507 3291    17  13  54.8%   75.3\\n',\n",
       " 'Brett Favre QB, MIN 217 358 2509    11  19  60.6%   69.9\\n',\n",
       " 'David Garrard QB, JAC   236 366 2734    23  15  64.5%   90.8\\n',\n",
       " 'Eli Manning QB, NYG 339 539 4002    31  25  62.9%   85.3\\n',\n",
       " 'Carson Palmer QB, CIN   362 586 3970    26  20  61.8%   82.4\\n',\n",
       " 'Alex Smith QB, SF   204 342 2370    14  10  59.6%   82.1\\n',\n",
       " 'Chad Henne QB, MIA  301 490 3301    15  19  61.4%   75.4\\n',\n",
       " 'Tony Romo QB, DAL   148 213 1605    11  7   69.5%   94.9\\n',\n",
       " 'Jay Cutler QB, CHI  261 432 3274    23  16  60.4%   86.3\\n',\n",
       " 'Jon Kitna QB, DAL   209 318 2365    16  12  65.7%   88.9\\n',\n",
       " 'Tom Brady QB, NE    324 492 3900    36  4   65.9%   111.0\\n',\n",
       " 'Ben Roethlisberger QB, PIT  240 389 3200    17  5   61.7%   97.0\\n',\n",
       " 'Kerry Collins QB, TEN   160 278 1823    14  8   57.6%   82.2\\n',\n",
       " 'Derek Anderson QB, ARI  169 327 2065    7   10  51.7%   65.9\\n',\n",
       " 'Ryan Fitzpatrick QB, BUF    255 441 3000    23  15  57.8%   81.8\\n',\n",
       " 'Donovan McNabb QB, WAS  275 472 3377    14  15  58.3%   77.1\\n',\n",
       " 'Kevin Kolb QB, PHI  115 189 1197    7   7   60.8%   76.1\\n',\n",
       " 'Aaron Rodgers QB, GB    312 475 3922    28  11  65.7%   101.2\\n',\n",
       " 'Sam Bradford QB, STL    354 590 3512    18  15  60.0%   76.5\\n',\n",
       " 'Shaun Hill QB, DET  257 416 2686    16  12  61.8%   81.3']"
      ]
     },
     "execution_count": 7,
     "metadata": {},
     "output_type": "execute_result"
    }
   ],
   "source": [
    "arquivo_qb = open('qbdata.txt', 'r')\n",
    "lista_conteudo = arquivo_qb.readlines()\n",
    "lista_conteudo"
   ]
  },
  {
   "cell_type": "code",
   "execution_count": 12,
   "id": "166e4071",
   "metadata": {},
   "outputs": [
    {
     "data": {
      "text/plain": [
       "['Colt',\n",
       " 'McCoy',\n",
       " 'QB,',\n",
       " 'CLE',\n",
       " '135',\n",
       " '222',\n",
       " '1576',\n",
       " '6',\n",
       " '9',\n",
       " '60.8%',\n",
       " '74.5']"
      ]
     },
     "execution_count": 12,
     "metadata": {},
     "output_type": "execute_result"
    }
   ],
   "source": [
    "lista_conteudo[0].split()"
   ]
  },
  {
   "cell_type": "code",
   "execution_count": 19,
   "id": "abd64ce6",
   "metadata": {},
   "outputs": [
    {
     "name": "stdout",
     "output_type": "stream",
     "text": [
      "Colt McCoy do QB teve valor 74.5\n",
      "Josh Freeman do QB teve valor 95.9\n",
      "Michael Vick do QB teve valor 100.2\n",
      "Matt Schaub do QB teve valor 92.0\n",
      "Philip Rivers do QB teve valor 101.8\n",
      "Matt Hasselbeck do QB teve valor 73.2\n",
      "Jimmy Clausen do QB teve valor 58.4\n",
      "Joe Flacco do QB teve valor 93.6\n",
      "Kyle Orton do QB teve valor 87.5\n",
      "Jason Campbell do QB teve valor 84.5\n",
      "Peyton Manning do QB teve valor 91.9\n",
      "Drew Brees do QB teve valor 90.9\n",
      "Matt Ryan do QB teve valor 91.0\n",
      "Matt Cassel do QB teve valor 93.0\n",
      "Mark Sanchez do QB teve valor 75.3\n",
      "Brett Favre do QB teve valor 69.9\n",
      "David Garrard do QB teve valor 90.8\n",
      "Eli Manning do QB teve valor 85.3\n",
      "Carson Palmer do QB teve valor 82.4\n",
      "Alex Smith do QB teve valor 82.1\n",
      "Chad Henne do QB teve valor 75.4\n",
      "Tony Romo do QB teve valor 94.9\n",
      "Jay Cutler do QB teve valor 86.3\n",
      "Jon Kitna do QB teve valor 88.9\n",
      "Tom Brady do QB teve valor 111.0\n",
      "Ben Roethlisberger do QB teve valor 97.0\n",
      "Kerry Collins do QB teve valor 82.2\n",
      "Derek Anderson do QB teve valor 65.9\n",
      "Ryan Fitzpatrick do QB teve valor 81.8\n",
      "Donovan McNabb do QB teve valor 77.1\n",
      "Kevin Kolb do QB teve valor 76.1\n",
      "Aaron Rodgers do QB teve valor 101.2\n",
      "Sam Bradford do QB teve valor 76.5\n",
      "Shaun Hill do QB teve valor 81.3\n"
     ]
    }
   ],
   "source": [
    "for i in range(len(lista_conteudo)):\n",
    "    if i==len(lista_conteudo):\n",
    "        print(lista_conteudo[i].split()[0:2], 'do QB teve valor', lista_conteudo[i].split()[-2])\n",
    "    else:\n",
    "        print(lista_conteudo[i].split()[0], lista_conteudo[i].split()[1], 'do QB teve valor',\n",
    "              lista_conteudo[i].split()[-1])"
   ]
  },
  {
   "cell_type": "markdown",
   "id": "475bc14f",
   "metadata": {},
   "source": [
    "2. Pensando em uma agenda, construa um dicionário com informações do contato sendo: <br>\n",
    "CPF, nome, telefone e user no Twitter. Ao final, imprima todos os contatos na forma <br>\n",
    "CPF: nome, telefone (user)"
   ]
  },
  {
   "cell_type": "code",
   "execution_count": 36,
   "id": "e118610a",
   "metadata": {},
   "outputs": [],
   "source": [
    "dic = {}\n",
    "dic['06188325800']=['João', '11994755000', '@joaograndao']\n",
    "dic['90583083444']=['Pedro', '81999954321', '@pedropolegar']\n",
    "dic['03949050340']=['Gilmar', '21987559385', '@gildasoncas']\n",
    "dic['84624953846']=['Antonio', '31980158887', '@tonhaodasletras']"
   ]
  },
  {
   "cell_type": "code",
   "execution_count": 37,
   "id": "ea8fd85e",
   "metadata": {},
   "outputs": [
    {
     "name": "stdout",
     "output_type": "stream",
     "text": [
      "06188325800 : João , 11994755000 ( @joaograndao )\n",
      "90583083444 : Pedro , 81999954321 ( @pedropolegar )\n",
      "03949050340 : Gilmar , 21987559385 ( @gildasoncas )\n",
      "84624953846 : Antonio , 31980158887 ( @tonhaodasletras )\n"
     ]
    }
   ],
   "source": [
    "for chave,valor in dic.items():\n",
    "    print(chave, ':', valor[0], ',', valor[1], '(', valor[2], ')')"
   ]
  }
 ],
 "metadata": {
  "kernelspec": {
   "display_name": "Python 3",
   "language": "python",
   "name": "python3"
  },
  "language_info": {
   "codemirror_mode": {
    "name": "ipython",
    "version": 3
   },
   "file_extension": ".py",
   "mimetype": "text/x-python",
   "name": "python",
   "nbconvert_exporter": "python",
   "pygments_lexer": "ipython3",
   "version": "3.8.10"
  }
 },
 "nbformat": 4,
 "nbformat_minor": 5
}
