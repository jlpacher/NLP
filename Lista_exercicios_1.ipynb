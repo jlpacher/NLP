{
 "cells": [
  {
   "cell_type": "markdown",
   "id": "b8ca006c",
   "metadata": {},
   "source": [
    "# Lista de Exercícios 1"
   ]
  },
  {
   "cell_type": "markdown",
   "id": "11d394f9",
   "metadata": {},
   "source": [
    "1. Crie três variáveis e atribua os valores a seguir: a=1, b=5.9 e c=‘teste’. A \n",
    "partir disso, retorne o tipo de cada uma das variáveis. "
   ]
  },
  {
   "cell_type": "code",
   "execution_count": 1,
   "id": "1ddc9fa2",
   "metadata": {},
   "outputs": [
    {
     "name": "stdout",
     "output_type": "stream",
     "text": [
      "<class 'int'>\n",
      "<class 'float'>\n",
      "<class 'str'>\n"
     ]
    }
   ],
   "source": [
    "a=1\n",
    "b=5.9\n",
    "c='teste'\n",
    "print(type(a))\n",
    "print(type(b))\n",
    "print(type(c))"
   ]
  },
  {
   "cell_type": "markdown",
   "id": "7ce0b7f6",
   "metadata": {},
   "source": [
    "2. Troque o valor da variável a por ‘1’ e verifique se o tipo da variável mudou"
   ]
  },
  {
   "cell_type": "code",
   "execution_count": 2,
   "id": "d6d96d25",
   "metadata": {},
   "outputs": [
    {
     "name": "stdout",
     "output_type": "stream",
     "text": [
      "<class 'str'>\n"
     ]
    }
   ],
   "source": [
    "a='1'\n",
    "print(type(a))"
   ]
  },
  {
   "cell_type": "markdown",
   "id": "c95471fd",
   "metadata": {},
   "source": [
    "3. Faça a soma da variável b com a variável c. Interprete a saída, tanto em caso \n",
    "de execução correta quanto em caso de execução com erro."
   ]
  },
  {
   "cell_type": "code",
   "execution_count": 3,
   "id": "9a193aaf",
   "metadata": {},
   "outputs": [
    {
     "ename": "TypeError",
     "evalue": "unsupported operand type(s) for +: 'float' and 'str'",
     "output_type": "error",
     "traceback": [
      "\u001b[1;31m---------------------------------------------------------------------------\u001b[0m",
      "\u001b[1;31mTypeError\u001b[0m                                 Traceback (most recent call last)",
      "\u001b[1;32m<ipython-input-3-921cdd4e6dfb>\u001b[0m in \u001b[0;36m<module>\u001b[1;34m\u001b[0m\n\u001b[1;32m----> 1\u001b[1;33m \u001b[0mb\u001b[0m\u001b[1;33m+\u001b[0m\u001b[0mc\u001b[0m\u001b[1;33m\u001b[0m\u001b[1;33m\u001b[0m\u001b[0m\n\u001b[0m",
      "\u001b[1;31mTypeError\u001b[0m: unsupported operand type(s) for +: 'float' and 'str'"
     ]
    }
   ],
   "source": [
    "b+c"
   ]
  },
  {
   "cell_type": "markdown",
   "id": "4f32e34e",
   "metadata": {},
   "source": [
    "4. Crie uma lista com números de 0 a 9 (em qualquer ordem). Com ela, faça:\n",
    "a. Adicione o número 6\n",
    "b. Insira o número 7 na 3ª posição da lista\n",
    "c. Remova o elemento 3 da lista\n",
    "d. Adicione o número 4\n",
    "e. Verifique o número de ocorrências do número 4 na list"
   ]
  },
  {
   "cell_type": "code",
   "execution_count": 13,
   "id": "3212978f",
   "metadata": {},
   "outputs": [
    {
     "name": "stdout",
     "output_type": "stream",
     "text": [
      "[0, 1, 2, 3, 4, 5, 6, 7, 8, 9]\n",
      "[0, 1, 2, 3, 4, 5, 6, 7, 8, 9, 6]\n",
      "[0, 1, 7, 2, 3, 4, 5, 6, 7, 8, 9, 6]\n",
      "[0, 1, 7, 2, 4, 5, 6, 7, 8, 9, 6]\n",
      "[0, 1, 7, 2, 4, 5, 6, 7, 8, 9, 6, 4]\n"
     ]
    },
    {
     "data": {
      "text/plain": [
       "2"
      ]
     },
     "execution_count": 13,
     "metadata": {},
     "output_type": "execute_result"
    }
   ],
   "source": [
    "lista = list(range(10))\n",
    "print(lista)\n",
    "\n",
    "lista.append(6)\n",
    "print(lista)\n",
    "\n",
    "lista.insert(2,7)\n",
    "print(lista)\n",
    "\n",
    "lista.remove(3)\n",
    "print(lista)\n",
    "\n",
    "lista.append(4)\n",
    "print(lista)\n",
    "\n",
    "lista.count(4)"
   ]
  },
  {
   "cell_type": "markdown",
   "id": "2f36d61c",
   "metadata": {},
   "source": [
    "5. Ainda com a lista criada na questão anterior, faça:\n",
    "a. Retorne os primeiros 3 elementos da lista\n",
    "b. Retorne os elementos que estão da 3ª posição até a 7ª posição da lista\n",
    "c. Retorne os elementos da lista de 3 em 3 elementos\n",
    "d. Retorne os 3 últimos elementos da lista\n",
    "e. Retorne todos os elementos menos os 4 últimos da lista"
   ]
  },
  {
   "cell_type": "code",
   "execution_count": 14,
   "id": "77321a45",
   "metadata": {},
   "outputs": [
    {
     "data": {
      "text/plain": [
       "[0, 1, 7]"
      ]
     },
     "execution_count": 14,
     "metadata": {},
     "output_type": "execute_result"
    }
   ],
   "source": [
    "lista[:3]"
   ]
  },
  {
   "cell_type": "code",
   "execution_count": 15,
   "id": "fe9c3527",
   "metadata": {},
   "outputs": [
    {
     "data": {
      "text/plain": [
       "[7, 2, 4, 5, 6, 7]"
      ]
     },
     "execution_count": 15,
     "metadata": {},
     "output_type": "execute_result"
    }
   ],
   "source": [
    "lista[2:8]"
   ]
  },
  {
   "cell_type": "code",
   "execution_count": 16,
   "id": "45f07c1b",
   "metadata": {},
   "outputs": [
    {
     "data": {
      "text/plain": [
       "[0, 2, 6, 9]"
      ]
     },
     "execution_count": 16,
     "metadata": {},
     "output_type": "execute_result"
    }
   ],
   "source": [
    "lista[::3] # start, stop, step"
   ]
  },
  {
   "cell_type": "code",
   "execution_count": 18,
   "id": "1ab1f297",
   "metadata": {},
   "outputs": [
    {
     "data": {
      "text/plain": [
       "[9, 6, 4]"
      ]
     },
     "execution_count": 18,
     "metadata": {},
     "output_type": "execute_result"
    }
   ],
   "source": [
    "lista[-3:]"
   ]
  },
  {
   "cell_type": "code",
   "execution_count": 19,
   "id": "4d631a06",
   "metadata": {},
   "outputs": [
    {
     "data": {
      "text/plain": [
       "[0, 1, 7, 2, 4, 5, 6, 7]"
      ]
     },
     "execution_count": 19,
     "metadata": {},
     "output_type": "execute_result"
    }
   ],
   "source": [
    "lista[:-4]"
   ]
  },
  {
   "cell_type": "markdown",
   "id": "4c57135b",
   "metadata": {},
   "source": [
    "6. Com a lista das questões anteriores, retorne o 6º elemento da lista"
   ]
  },
  {
   "cell_type": "code",
   "execution_count": 20,
   "id": "732dfef9",
   "metadata": {},
   "outputs": [
    {
     "data": {
      "text/plain": [
       "5"
      ]
     },
     "execution_count": 20,
     "metadata": {},
     "output_type": "execute_result"
    }
   ],
   "source": [
    "lista[5]"
   ]
  },
  {
   "cell_type": "markdown",
   "id": "55ff59ce",
   "metadata": {},
   "source": [
    "7. Altere o valor do 7º elemento da lista para o valor 12"
   ]
  },
  {
   "cell_type": "code",
   "execution_count": 21,
   "id": "69a69ad5",
   "metadata": {},
   "outputs": [
    {
     "name": "stdout",
     "output_type": "stream",
     "text": [
      "[0, 1, 7, 2, 4, 5, 12, 7, 8, 9, 6, 4]\n"
     ]
    }
   ],
   "source": [
    "lista[6] = 12\n",
    "print(lista)"
   ]
  },
  {
   "cell_type": "markdown",
   "id": "cbc7f9db",
   "metadata": {},
   "source": [
    "8. Inverta a ordem dos elementos na lista."
   ]
  },
  {
   "cell_type": "code",
   "execution_count": 24,
   "id": "9e6080ff",
   "metadata": {},
   "outputs": [
    {
     "name": "stdout",
     "output_type": "stream",
     "text": [
      "[4, 6, 9, 8, 7, 12, 5, 4, 2, 7, 1, 0]\n"
     ]
    }
   ],
   "source": [
    "lista.reverse()\n",
    "print(lista)"
   ]
  },
  {
   "cell_type": "markdown",
   "id": "d366ac0a",
   "metadata": {},
   "source": [
    "9. Ordene a lista."
   ]
  },
  {
   "cell_type": "code",
   "execution_count": 25,
   "id": "3750fa8e",
   "metadata": {},
   "outputs": [
    {
     "name": "stdout",
     "output_type": "stream",
     "text": [
      "[0, 1, 2, 4, 4, 5, 6, 7, 7, 8, 9, 12]\n"
     ]
    }
   ],
   "source": [
    "lista.sort()\n",
    "print(lista)"
   ]
  },
  {
   "cell_type": "markdown",
   "id": "89d0b9c8",
   "metadata": {},
   "source": [
    "10. Crie uma tupla com números de 0 a 9 (em qualquer ordem) e tente:\n",
    "a. Alterar o valor do 3º elemento da tupla para o valor 10\n",
    "b. Verificar o índice (posição) do valor 5 na tupla"
   ]
  },
  {
   "cell_type": "code",
   "execution_count": 26,
   "id": "a65c1f60",
   "metadata": {},
   "outputs": [
    {
     "data": {
      "text/plain": [
       "(0, 1, 2, 3, 4, 5, 6, 7, 8, 9)"
      ]
     },
     "execution_count": 26,
     "metadata": {},
     "output_type": "execute_result"
    }
   ],
   "source": [
    "tupla = tuple(range(10))\n",
    "tupla"
   ]
  },
  {
   "cell_type": "code",
   "execution_count": 27,
   "id": "33db0fae",
   "metadata": {},
   "outputs": [
    {
     "ename": "TypeError",
     "evalue": "'tuple' object does not support item assignment",
     "output_type": "error",
     "traceback": [
      "\u001b[1;31m---------------------------------------------------------------------------\u001b[0m",
      "\u001b[1;31mTypeError\u001b[0m                                 Traceback (most recent call last)",
      "\u001b[1;32m<ipython-input-27-6c7e2196c48b>\u001b[0m in \u001b[0;36m<module>\u001b[1;34m\u001b[0m\n\u001b[1;32m----> 1\u001b[1;33m \u001b[0mtupla\u001b[0m\u001b[1;33m[\u001b[0m\u001b[1;36m2\u001b[0m\u001b[1;33m]\u001b[0m \u001b[1;33m=\u001b[0m \u001b[1;36m10\u001b[0m\u001b[1;33m\u001b[0m\u001b[1;33m\u001b[0m\u001b[0m\n\u001b[0m",
      "\u001b[1;31mTypeError\u001b[0m: 'tuple' object does not support item assignment"
     ]
    }
   ],
   "source": [
    "tupla[2] = 10"
   ]
  },
  {
   "cell_type": "code",
   "execution_count": 28,
   "id": "10831ef3",
   "metadata": {},
   "outputs": [
    {
     "data": {
      "text/plain": [
       "5"
      ]
     },
     "execution_count": 28,
     "metadata": {},
     "output_type": "execute_result"
    }
   ],
   "source": [
    "tupla.index(5)"
   ]
  },
  {
   "cell_type": "markdown",
   "id": "2d50d7cc",
   "metadata": {},
   "source": [
    "11. Crie um dicionário com 5 entradas e suas respectivas chaves e valores. Faça:\n",
    "a. Imprima todas as chaves do dicionário\n",
    "b. Imprima todos os valores do dicionário\n",
    "c. Imprima todos os itens do dicionário\n",
    "d. Imprima o 2º item do dicionário\n",
    "e. Imprima o dicionário completo\n",
    "f. Percorra o dicionário, imprimindo para cada entrada o modelo “(chave) \n",
    "tem como valor (valor)”"
   ]
  },
  {
   "cell_type": "code",
   "execution_count": 29,
   "id": "0529ef67",
   "metadata": {},
   "outputs": [
    {
     "name": "stdout",
     "output_type": "stream",
     "text": [
      "dict_keys(['arroz', 'feijao', 'acucar', 'oleo', 'azeite'])\n",
      "dict_values([5, 2, 5, 1, 0.5])\n",
      "dict_items([('arroz', 5), ('feijao', 2), ('acucar', 5), ('oleo', 1), ('azeite', 0.5)])\n",
      "('feijao', 2)\n"
     ]
    }
   ],
   "source": [
    "dic = {}\n",
    "dic['arroz']=5\n",
    "dic['feijao']=2\n",
    "dic['acucar']=5\n",
    "dic['oleo']=1\n",
    "dic['azeite']=0.5\n",
    "\n",
    "print(dic.keys())\n",
    "print(dic.values())\n",
    "print(dic.items())\n",
    "print(list(dic.items())[1])"
   ]
  },
  {
   "cell_type": "code",
   "execution_count": 30,
   "id": "4249e212",
   "metadata": {},
   "outputs": [
    {
     "name": "stdout",
     "output_type": "stream",
     "text": [
      "arroz tem como valor 5\n",
      "feijao tem como valor 2\n",
      "acucar tem como valor 5\n",
      "oleo tem como valor 1\n",
      "azeite tem como valor 0.5\n"
     ]
    }
   ],
   "source": [
    "for chave,valor in dic.items():\n",
    "    print(chave, 'tem como valor', valor)"
   ]
  },
  {
   "cell_type": "markdown",
   "id": "7b231842",
   "metadata": {},
   "source": [
    "12. Crie um arquivo e:\n",
    "a. Escreva nele os números de 1 a 10\n",
    "b. Depois de escrito, imprima na tela todos os números do arquivo\n",
    "c. Escreva no arquivo os números de 11 a 20, substituindo os números que \n",
    "estavam antes no arquivo\n",
    "d. Escreva no arquivo os números de 21 a 30, adicionando os números no \n",
    "final do arquivo (sem apagar o que já estavam lá)\n",
    "e. Imprima na tela todos os números do arquivo novamente (de 11 a 30)\n",
    "f. Imprima na tela todos os números do arquivo novamente, mas agora \n",
    "linha por linha"
   ]
  },
  {
   "cell_type": "code",
   "execution_count": 45,
   "id": "162a72d8",
   "metadata": {},
   "outputs": [
    {
     "name": "stdout",
     "output_type": "stream",
     "text": [
      "Numeros de 1 a 10\n",
      "1\n",
      "2\n",
      "3\n",
      "4\n",
      "5\n",
      "6\n",
      "7\n",
      "8\n",
      "9\n",
      "10\n",
      "\n"
     ]
    }
   ],
   "source": [
    "arquivo_criado = open('arquivo.txt', 'w')\n",
    "arquivo_criado.write('Numeros de 1 a 10\\n')\n",
    "for i in range(1,11):\n",
    "    arquivo_criado.write(str(i)+'\\n')\n",
    "arquivo_criado.close()   \n",
    "    \n",
    "arquivo_lido = open('arquivo.txt', 'r')\n",
    "print(arquivo_lido.read())\n",
    "arquivo_lido.close()"
   ]
  },
  {
   "cell_type": "code",
   "execution_count": 46,
   "id": "4cd8762b",
   "metadata": {},
   "outputs": [
    {
     "name": "stdout",
     "output_type": "stream",
     "text": [
      "Numeros de 11 a 20\n",
      "11\n",
      "12\n",
      "13\n",
      "14\n",
      "15\n",
      "16\n",
      "17\n",
      "18\n",
      "19\n",
      "20\n",
      "\n"
     ]
    }
   ],
   "source": [
    "arquivo_criado = open('arquivo.txt', 'w')\n",
    "arquivo_criado.write('Numeros de 11 a 20\\n')\n",
    "for i in range(11,21):\n",
    "    arquivo_criado.write(str(i)+'\\n')\n",
    "arquivo_criado.close()\n",
    "\n",
    "arquivo_lido = open('arquivo.txt', 'r')\n",
    "print(arquivo_lido.read())\n",
    "arquivo_lido.close()"
   ]
  },
  {
   "cell_type": "code",
   "execution_count": 47,
   "id": "d857475c",
   "metadata": {},
   "outputs": [
    {
     "name": "stdout",
     "output_type": "stream",
     "text": [
      "Numeros de 11 a 20\n",
      "11\n",
      "12\n",
      "13\n",
      "14\n",
      "15\n",
      "16\n",
      "17\n",
      "18\n",
      "19\n",
      "20\n",
      "Numeros de 21 a 30\n",
      "21\n",
      "22\n",
      "23\n",
      "24\n",
      "25\n",
      "26\n",
      "27\n",
      "28\n",
      "29\n",
      "30\n",
      "\n"
     ]
    }
   ],
   "source": [
    "arquivo_criado = open('arquivo.txt', 'a')\n",
    "arquivo_criado.write('Numeros de 21 a 30\\n')\n",
    "for i in range(21,31):\n",
    "    arquivo_criado.write(str(i)+'\\n')\n",
    "arquivo_criado.close()\n",
    "\n",
    "arquivo_lido = open('arquivo.txt', 'r')\n",
    "print(arquivo_lido.read())\n",
    "arquivo_lido.close()"
   ]
  }
 ],
 "metadata": {
  "kernelspec": {
   "display_name": "Python 3",
   "language": "python",
   "name": "python3"
  },
  "language_info": {
   "codemirror_mode": {
    "name": "ipython",
    "version": 3
   },
   "file_extension": ".py",
   "mimetype": "text/x-python",
   "name": "python",
   "nbconvert_exporter": "python",
   "pygments_lexer": "ipython3",
   "version": "3.8.10"
  }
 },
 "nbformat": 4,
 "nbformat_minor": 5
}
