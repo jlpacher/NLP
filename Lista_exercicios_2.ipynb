{
 "cells": [
  {
   "cell_type": "markdown",
   "id": "74c3803a",
   "metadata": {},
   "source": [
    "# Lista de Exercícios 2"
   ]
  },
  {
   "cell_type": "markdown",
   "id": "f9488347",
   "metadata": {},
   "source": [
    "1. Crie uma variável com a string “ instituto de ciências matemáticas e de computação” e faça:  <br>\n",
    "a. Concatene (adicione) uma outra string chamada “usp”  <br>\n",
    "b. Concatene (adicione) uma outra informação: 2021  <br>\n",
    "c. Verifique o tamanho da nova string (com as informações adicionadas das questões a e b), com referência a caracteres e espaços  <br>\n",
    "d. Transforme a string inteiramente em maiúsculo  <br>\n",
    "e. Transforme a string inteiramente em minúsculo  <br>\n",
    "f. Retire o espaço que está no início da string e imprima a string  <br>\n",
    "g. Substitua todas as letras ‘a’ por ‘x’  <br>\n",
    "h. Separe a string em palavras únicas  <br>\n",
    "i. Verifique quantas palavras existem na string  <br>\n",
    "j. Separe a string por meio da palavra “de”  <br>\n",
    "k. Verifique agora quantas palavras/frases foram formadas quando houve a separação pela palavra “de”  <br>\n",
    "l. Junte as palavras que foram separadas (pode usar a separação resultante da questão h ou j)  <br>\n",
    "m. Junte as palavras que foram separadas, mas agora separadas por uma barra invertida, não por espaços (pode usar a separação resultante da questão h ou j)  <br>"
   ]
  },
  {
   "cell_type": "code",
   "execution_count": 37,
   "id": "f92de998",
   "metadata": {},
   "outputs": [
    {
     "data": {
      "text/plain": [
       "' instituto de ciências matemáticas e de computação'"
      ]
     },
     "execution_count": 37,
     "metadata": {},
     "output_type": "execute_result"
    }
   ],
   "source": [
    "string = ' instituto de ciências matemáticas e de computação'\n",
    "string"
   ]
  },
  {
   "cell_type": "code",
   "execution_count": 38,
   "id": "5d1b2fc2",
   "metadata": {},
   "outputs": [
    {
     "data": {
      "text/plain": [
       "' instituto de ciências matemáticas e de computação usp'"
      ]
     },
     "execution_count": 38,
     "metadata": {},
     "output_type": "execute_result"
    }
   ],
   "source": [
    "string += ' usp'\n",
    "string"
   ]
  },
  {
   "cell_type": "code",
   "execution_count": 39,
   "id": "5537c252",
   "metadata": {},
   "outputs": [
    {
     "data": {
      "text/plain": [
       "' instituto de ciências matemáticas e de computação usp 2021'"
      ]
     },
     "execution_count": 39,
     "metadata": {},
     "output_type": "execute_result"
    }
   ],
   "source": [
    "string += ' ' + str(2021)\n",
    "string"
   ]
  },
  {
   "cell_type": "code",
   "execution_count": 40,
   "id": "17f45c49",
   "metadata": {},
   "outputs": [
    {
     "data": {
      "text/plain": [
       "59"
      ]
     },
     "execution_count": 40,
     "metadata": {},
     "output_type": "execute_result"
    }
   ],
   "source": [
    "len(string)"
   ]
  },
  {
   "cell_type": "code",
   "execution_count": 41,
   "id": "1da81022",
   "metadata": {},
   "outputs": [
    {
     "data": {
      "text/plain": [
       "' INSTITUTO DE CIÊNCIAS MATEMÁTICAS E DE COMPUTAÇÃO USP 2021'"
      ]
     },
     "execution_count": 41,
     "metadata": {},
     "output_type": "execute_result"
    }
   ],
   "source": [
    "string.upper()"
   ]
  },
  {
   "cell_type": "code",
   "execution_count": 42,
   "id": "510a5420",
   "metadata": {},
   "outputs": [
    {
     "data": {
      "text/plain": [
       "' instituto de ciências matemáticas e de computação usp 2021'"
      ]
     },
     "execution_count": 42,
     "metadata": {},
     "output_type": "execute_result"
    }
   ],
   "source": [
    "string.lower()"
   ]
  },
  {
   "cell_type": "code",
   "execution_count": 43,
   "id": "1c2dd96c",
   "metadata": {},
   "outputs": [
    {
     "data": {
      "text/plain": [
       "'instituto de ciências matemáticas e de computação usp 2021'"
      ]
     },
     "execution_count": 43,
     "metadata": {},
     "output_type": "execute_result"
    }
   ],
   "source": [
    "string.strip()"
   ]
  },
  {
   "cell_type": "code",
   "execution_count": 44,
   "id": "5a1decd3",
   "metadata": {},
   "outputs": [
    {
     "data": {
      "text/plain": [
       "' instituto de ciêncixs mxtemáticxs e de computxção usp 2021'"
      ]
     },
     "execution_count": 44,
     "metadata": {},
     "output_type": "execute_result"
    }
   ],
   "source": [
    "string.replace('a', 'x')"
   ]
  },
  {
   "cell_type": "code",
   "execution_count": 45,
   "id": "c72b1fc3",
   "metadata": {},
   "outputs": [
    {
     "name": "stdout",
     "output_type": "stream",
     "text": [
      "['instituto', 'de', 'ciências', 'matemáticas', 'e', 'de', 'computação', 'usp', '2021']\n"
     ]
    }
   ],
   "source": [
    "lista_split = string.split()\n",
    "print(lista_split)"
   ]
  },
  {
   "cell_type": "code",
   "execution_count": 46,
   "id": "957bf357",
   "metadata": {},
   "outputs": [
    {
     "data": {
      "text/plain": [
       "9"
      ]
     },
     "execution_count": 46,
     "metadata": {},
     "output_type": "execute_result"
    }
   ],
   "source": [
    "len(lista_split)"
   ]
  },
  {
   "cell_type": "code",
   "execution_count": 47,
   "id": "0ecd5cf1",
   "metadata": {},
   "outputs": [
    {
     "name": "stdout",
     "output_type": "stream",
     "text": [
      "['instituto', 'de', 'ciências', 'matemáticas', 'e', 'de', 'computação', 'usp', '2021']\n"
     ]
    }
   ],
   "source": [
    "lista_split2 = string.split('de')\n",
    "print(lista_split)"
   ]
  },
  {
   "cell_type": "code",
   "execution_count": 48,
   "id": "15bb5f08",
   "metadata": {},
   "outputs": [
    {
     "data": {
      "text/plain": [
       "3"
      ]
     },
     "execution_count": 48,
     "metadata": {},
     "output_type": "execute_result"
    }
   ],
   "source": [
    "len(lista_split2)"
   ]
  },
  {
   "cell_type": "code",
   "execution_count": 49,
   "id": "5d012be0",
   "metadata": {},
   "outputs": [
    {
     "data": {
      "text/plain": [
       "'instituto de ciências matemáticas e de computação usp 2021'"
      ]
     },
     "execution_count": 49,
     "metadata": {},
     "output_type": "execute_result"
    }
   ],
   "source": [
    "juntar = \" \".join(lista_split)\n",
    "juntar"
   ]
  },
  {
   "cell_type": "code",
   "execution_count": 53,
   "id": "cc83a7a8",
   "metadata": {},
   "outputs": [
    {
     "name": "stdout",
     "output_type": "stream",
     "text": [
      "instituto\\de\\ciências\\matemáticas\\e\\de\\computação\\usp\\2021\n"
     ]
    }
   ],
   "source": [
    "juntar2 = \"\\\\\".join(lista_split)\n",
    "print(juntar2)"
   ]
  },
  {
   "cell_type": "markdown",
   "id": "a83ce126",
   "metadata": {},
   "source": [
    "2. Escolha um corpus qualquer (pode ser o que foram utilizados na aula) e, usando as funções do NLTK, faça:  <br>\n",
    "a. Tokenize o corpus inteiro (palavras, números e pontuações)  <br>\n",
    "b. Verifique a quantidade de tokens do corpus  <br>\n",
    "c. Tokenize o corpus apenas por suas palavras  <br>\n",
    "d. Verifique a quantidade de palavras do corpus  <br>\n",
    "e. Verifique a frequência de palavras no corpus  <br>\n",
    "f. Verifique quais são as 5, 10 e 15 palavras mais frequentes do corpus  <br>\n",
    "g. Extraia as stopwords do NLTK (não do corpus ainda)  <br>\n",
    "h. Verifique a frequência dos tokens sem stopwords do corpus  <br>"
   ]
  },
  {
   "cell_type": "code",
   "execution_count": 55,
   "id": "ad4c2464",
   "metadata": {},
   "outputs": [],
   "source": [
    "import nltk"
   ]
  },
  {
   "cell_type": "code",
   "execution_count": 54,
   "id": "708da703",
   "metadata": {},
   "outputs": [],
   "source": [
    "corpus = open('corpus_teste.txt').read()"
   ]
  },
  {
   "cell_type": "code",
   "execution_count": 57,
   "id": "e16f7f11",
   "metadata": {},
   "outputs": [
    {
     "name": "stdout",
     "output_type": "stream",
     "text": [
      "['Giants', 'batem', 'os', 'Patriots', 'no', 'Super', 'Bowl', 'XLII', 'AzarÃµes', 'acabam']\n"
     ]
    }
   ],
   "source": [
    "tokenized = nltk.word_tokenize(corpus)\n",
    "print(tokenized[:10])"
   ]
  },
  {
   "cell_type": "code",
   "execution_count": 58,
   "id": "95892faf",
   "metadata": {},
   "outputs": [
    {
     "data": {
      "text/plain": [
       "862"
      ]
     },
     "execution_count": 58,
     "metadata": {},
     "output_type": "execute_result"
    }
   ],
   "source": [
    "len(tokenized)"
   ]
  },
  {
   "cell_type": "code",
   "execution_count": 61,
   "id": "f4864725",
   "metadata": {},
   "outputs": [
    {
     "name": "stdout",
     "output_type": "stream",
     "text": [
      "['Giants', 'batem', 'os', 'Patriots', 'no', 'Super', 'Bowl', 'XLII', 'AzarÃµes', 'acabam']\n"
     ]
    }
   ],
   "source": [
    "# só palavras, sem números ou acentos (exceto underline)\n",
    "from nltk.tokenize import RegexpTokenizer\n",
    "tokenizer = RegexpTokenizer(r'[a-zA-Z]\\w+')\n",
    "tokens = tokenizer.tokenize(corpus)\n",
    "print(tokens[:10])"
   ]
  },
  {
   "cell_type": "code",
   "execution_count": 62,
   "id": "2c5f12f9",
   "metadata": {},
   "outputs": [
    {
     "data": {
      "text/plain": [
       "667"
      ]
     },
     "execution_count": 62,
     "metadata": {},
     "output_type": "execute_result"
    }
   ],
   "source": [
    "len(tokens)"
   ]
  },
  {
   "cell_type": "code",
   "execution_count": 65,
   "id": "61a8ea4a",
   "metadata": {},
   "outputs": [
    {
     "name": "stdout",
     "output_type": "stream",
     "text": [
      "[('de', 34), ('para', 16), ('jardas', 15), ('do', 12), ('na', 12)]\n",
      "[('de', 34), ('para', 16), ('jardas', 15), ('do', 12), ('na', 12), ('Giants', 11), ('os', 11), ('um', 11), ('Patriots', 10), ('Manning', 10)]\n",
      "[('de', 34), ('para', 16), ('jardas', 15), ('do', 12), ('na', 12), ('Giants', 11), ('os', 11), ('um', 11), ('Patriots', 10), ('Manning', 10), ('uma', 10), ('linha', 10), ('com', 8), ('avanÃ', 8), ('no', 7)]\n"
     ]
    }
   ],
   "source": [
    "frequencia = nltk.FreqDist(tokens)\n",
    "print(frequencia.most_common()[:5])\n",
    "print(frequencia.most_common()[:10])\n",
    "print(frequencia.most_common()[:15])"
   ]
  },
  {
   "cell_type": "code",
   "execution_count": 66,
   "id": "6e5421de",
   "metadata": {},
   "outputs": [],
   "source": [
    "stopwords = nltk.corpus.stopwords.words('portuguese')"
   ]
  },
  {
   "cell_type": "code",
   "execution_count": 68,
   "id": "e3812350",
   "metadata": {},
   "outputs": [
    {
     "data": {
      "text/plain": [
       "471"
      ]
     },
     "execution_count": 68,
     "metadata": {},
     "output_type": "execute_result"
    }
   ],
   "source": [
    "#frequencia de tokens sem stopwords\n",
    "nova_lista = [token.lower() for token in tokens if token.lower() not in stopwords]\n",
    "len(nova_lista)"
   ]
  }
 ],
 "metadata": {
  "kernelspec": {
   "display_name": "Python 3",
   "language": "python",
   "name": "python3"
  },
  "language_info": {
   "codemirror_mode": {
    "name": "ipython",
    "version": 3
   },
   "file_extension": ".py",
   "mimetype": "text/x-python",
   "name": "python",
   "nbconvert_exporter": "python",
   "pygments_lexer": "ipython3",
   "version": "3.8.10"
  }
 },
 "nbformat": 4,
 "nbformat_minor": 5
}
